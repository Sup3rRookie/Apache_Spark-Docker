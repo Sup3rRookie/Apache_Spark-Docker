{
 "cells": [
  {
   "cell_type": "markdown",
   "id": "d2c8771f",
   "metadata": {},
   "source": [
    "## Import libraries"
   ]
  },
  {
   "cell_type": "code",
   "execution_count": 7,
   "id": "2307c839",
   "metadata": {},
   "outputs": [],
   "source": [
    "import pyspark\n",
    "from pyspark import SparkContext\n",
    "sc = SparkContext.getOrCreate();\n",
    "spark = pyspark.sql.SparkSession(sc, jsparkSession=None)"
   ]
  },
  {
   "cell_type": "markdown",
   "id": "3219d6b6",
   "metadata": {},
   "source": [
    "## Read File"
   ]
  },
  {
   "cell_type": "code",
   "execution_count": 19,
   "id": "2cbf410b",
   "metadata": {},
   "outputs": [],
   "source": [
    " bookDF = spark.read.json('file:/home/jovyan/work/learning-apache-spark-main/data/bookcontents.json')"
   ]
  },
  {
   "cell_type": "markdown",
   "id": "c55a4857",
   "metadata": {},
   "source": [
    "## Schema"
   ]
  },
  {
   "cell_type": "code",
   "execution_count": 20,
   "id": "1c9521b0",
   "metadata": {},
   "outputs": [
    {
     "name": "stdout",
     "output_type": "stream",
     "text": [
      "root\n",
      " |-- Chapter: long (nullable = true)\n",
      " |-- Name: string (nullable = true)\n",
      " |-- Page: long (nullable = true)\n",
      "\n"
     ]
    }
   ],
   "source": [
    "bookDF.printSchema()"
   ]
  },
  {
   "cell_type": "markdown",
   "id": "ff956c87",
   "metadata": {},
   "source": [
    "## Action"
   ]
  },
  {
   "cell_type": "code",
   "execution_count": 21,
   "id": "2bfb7dde",
   "metadata": {},
   "outputs": [
    {
     "name": "stdout",
     "output_type": "stream",
     "text": [
      "+-------+--------------------+----+\n",
      "|Chapter|                Name|Page|\n",
      "+-------+--------------------+----+\n",
      "|      1|        Introduction|  11|\n",
      "|      2|Basic Engineering...|  19|\n",
      "|      3|Advanced Engineer...|  28|\n",
      "|      4|     Hands On Course|  60|\n",
      "|      5|        Case Studies|  62|\n",
      "|      6|Best Practices Cl...|  73|\n",
      "|      7|130+ Data Sources...|  77|\n",
      "|      8|1001 Interview Qu...|  82|\n",
      "|      9|Recommended Books...|  87|\n",
      "+-------+--------------------+----+\n",
      "\n"
     ]
    }
   ],
   "source": [
    "bookDF.show()"
   ]
  },
  {
   "cell_type": "markdown",
   "id": "45a04efa",
   "metadata": {},
   "source": [
    "## Transform"
   ]
  },
  {
   "cell_type": "code",
   "execution_count": 23,
   "id": "25404fcf",
   "metadata": {},
   "outputs": [
    {
     "name": "stdout",
     "output_type": "stream",
     "text": [
      "+-------+--------------------+\n",
      "|Chapter|                Name|\n",
      "+-------+--------------------+\n",
      "|      1|        Introduction|\n",
      "|      2|Basic Engineering...|\n",
      "|      3|Advanced Engineer...|\n",
      "|      4|     Hands On Course|\n",
      "|      5|        Case Studies|\n",
      "|      6|Best Practices Cl...|\n",
      "|      7|130+ Data Sources...|\n",
      "|      8|1001 Interview Qu...|\n",
      "|      9|Recommended Books...|\n",
      "+-------+--------------------+\n",
      "\n"
     ]
    }
   ],
   "source": [
    "chapter_and_name_df = bookDF.select('Chapter','Name').show()"
   ]
  },
  {
   "cell_type": "markdown",
   "id": "d893bcc9",
   "metadata": {},
   "source": [
    "## Chaining Query"
   ]
  },
  {
   "cell_type": "code",
   "execution_count": 43,
   "id": "29bd3f8a",
   "metadata": {},
   "outputs": [],
   "source": [
    "df = spark.read.json('file:/home/jovyan/work/learning-apache-spark-main/data/bookcontents.json')"
   ]
  },
  {
   "cell_type": "code",
   "execution_count": 48,
   "id": "d9e62ed0",
   "metadata": {},
   "outputs": [
    {
     "name": "stdout",
     "output_type": "stream",
     "text": [
      "+-------+\n",
      "|Chapter|\n",
      "+-------+\n",
      "|      4|\n",
      "|      5|\n",
      "|      6|\n",
      "|      7|\n",
      "|      8|\n",
      "|      9|\n",
      "+-------+\n",
      "\n"
     ]
    }
   ],
   "source": [
    "df.select('Chapter').where(('Chapter > 3')).show()"
   ]
  }
 ],
 "metadata": {
  "kernelspec": {
   "display_name": "Python 3 (ipykernel)",
   "language": "python",
   "name": "python3"
  },
  "language_info": {
   "codemirror_mode": {
    "name": "ipython",
    "version": 3
   },
   "file_extension": ".py",
   "mimetype": "text/x-python",
   "name": "python",
   "nbconvert_exporter": "python",
   "pygments_lexer": "ipython3",
   "version": "3.9.6"
  }
 },
 "nbformat": 4,
 "nbformat_minor": 5
}
