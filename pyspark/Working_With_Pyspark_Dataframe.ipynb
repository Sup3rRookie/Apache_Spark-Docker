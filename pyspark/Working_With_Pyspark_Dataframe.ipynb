{
 "cells": [
  {
   "cell_type": "markdown",
   "id": "a2efd7a6",
   "metadata": {},
   "source": [
    "## Import Libraries"
   ]
  },
  {
   "cell_type": "code",
   "execution_count": 13,
   "id": "104052a5",
   "metadata": {},
   "outputs": [],
   "source": [
    "import pyspark\n",
    "from pyspark import SparkContext\n",
    "sc = SparkContext.getOrCreate()\n",
    "spark = pyspark.sql.SparkSession(sc, jsparkSession = None)"
   ]
  },
  {
   "cell_type": "markdown",
   "id": "b98a3e9d",
   "metadata": {},
   "source": [
    "## Join Data Frames"
   ]
  },
  {
   "cell_type": "code",
   "execution_count": 14,
   "id": "365a39d9",
   "metadata": {},
   "outputs": [],
   "source": [
    "## Load Chapters\n",
    "\n",
    "chaptersDf = spark.read.option('inferSchema','true').option('header','true').csv('file:/home/jovyan/work/learning-apache-spark-main/data/bookcontents.csv')"
   ]
  },
  {
   "cell_type": "code",
   "execution_count": 15,
   "id": "0b587626",
   "metadata": {},
   "outputs": [
    {
     "name": "stdout",
     "output_type": "stream",
     "text": [
      "+-------+--------------------+----+\n",
      "|Chapter|                Name|Page|\n",
      "+-------+--------------------+----+\n",
      "|      1|        Introduction|  11|\n",
      "|      2|Basic Engineering...|  19|\n",
      "|      3|Advanced Engineer...|  28|\n",
      "|      4|     Hands On Course|  60|\n",
      "|      5|        Case Studies|  62|\n",
      "|      6|Best Practices Cl...|  73|\n",
      "|      7|130+ Data Sources...|  77|\n",
      "|      8|1001 Interview Qu...|  82|\n",
      "|      9|Recommended Books...|  87|\n",
      "+-------+--------------------+----+\n",
      "\n"
     ]
    }
   ],
   "source": [
    "chaptersDf.show()"
   ]
  },
  {
   "cell_type": "code",
   "execution_count": 16,
   "id": "135d81d9",
   "metadata": {},
   "outputs": [
    {
     "name": "stdout",
     "output_type": "stream",
     "text": [
      "root\n",
      " |-- Chapter: integer (nullable = true)\n",
      " |-- Name: string (nullable = true)\n",
      " |-- Page: integer (nullable = true)\n",
      "\n"
     ]
    }
   ],
   "source": [
    "chaptersDf.printSchema()"
   ]
  },
  {
   "cell_type": "code",
   "execution_count": 17,
   "id": "f341e681",
   "metadata": {},
   "outputs": [],
   "source": [
    "## Load Sections\n",
    "\n",
    "sectionsDf = spark.read.option('inferSchema','true').option('header','true').csv('file:/home/jovyan/work/learning-apache-spark-main/data/sections.csv')"
   ]
  },
  {
   "cell_type": "code",
   "execution_count": 18,
   "id": "4f3eb0d3",
   "metadata": {},
   "outputs": [
    {
     "name": "stdout",
     "output_type": "stream",
     "text": [
      "root\n",
      " |-- Chapter: integer (nullable = true)\n",
      " |-- Section: double (nullable = true)\n",
      " |-- Section_Name: string (nullable = true)\n",
      "\n"
     ]
    }
   ],
   "source": [
    "sectionsDf.printSchema()"
   ]
  },
  {
   "cell_type": "code",
   "execution_count": 19,
   "id": "02c90b11",
   "metadata": {},
   "outputs": [
    {
     "name": "stdout",
     "output_type": "stream",
     "text": [
      "+-------+-------+--------------------+\n",
      "|Chapter|Section|        Section_Name|\n",
      "+-------+-------+--------------------+\n",
      "|      1|    1.1|What is this Cook...|\n",
      "|      1|    1.2|Data Engineer vs ...|\n",
      "|      1|    1.3|My Data Science P...|\n",
      "|      1|    1.4|  Who Companies Need|\n",
      "|      2|    2.1|       Learn To Code|\n",
      "|      2|    2.2|Get Familiar With...|\n",
      "|      2|    2.3|   Agile Development|\n",
      "|      2|    2.4|Software Engineer...|\n",
      "|      2|    2.5|Learn how a Compu...|\n",
      "|      2|    2.6|Data Network Tran...|\n",
      "|      2|    2.7|Security and Privacy|\n",
      "|      2|    2.8|               Linux|\n",
      "|      2|    2.9|              Docker|\n",
      "|      2|    2.1|           The Cloud|\n",
      "|      2|   2.11|Security Zone Design|\n",
      "|      3|    3.1|Data Science Plat...|\n",
      "|      3|    3.2|    Hadoop Platforms|\n",
      "|      3|    3.3|             Connect|\n",
      "|      3|    3.4|              Buffer|\n",
      "|      3|    3.5|Processing Framew...|\n",
      "+-------+-------+--------------------+\n",
      "only showing top 20 rows\n",
      "\n"
     ]
    }
   ],
   "source": [
    "sectionsDf.show()"
   ]
  },
  {
   "cell_type": "markdown",
   "id": "9ebb6d7f",
   "metadata": {},
   "source": [
    "## Filter Operation"
   ]
  },
  {
   "cell_type": "code",
   "execution_count": 20,
   "id": "402d8a10",
   "metadata": {},
   "outputs": [
    {
     "name": "stdout",
     "output_type": "stream",
     "text": [
      "+-------+-------+-------------------+\n",
      "|Chapter|Section|       Section_Name|\n",
      "+-------+-------+-------------------+\n",
      "|      8|    8.1|Interview Questions|\n",
      "+-------+-------+-------------------+\n",
      "\n"
     ]
    }
   ],
   "source": [
    "sectionsDf.where('Chapter == 8').show()"
   ]
  },
  {
   "cell_type": "markdown",
   "id": "68a7183e",
   "metadata": {},
   "source": [
    "## Join Operations (innner/ outer/ left_outer/ right_outer/ leftsemi)"
   ]
  },
  {
   "cell_type": "code",
   "execution_count": 21,
   "id": "9ca002f5",
   "metadata": {},
   "outputs": [
    {
     "name": "stdout",
     "output_type": "stream",
     "text": [
      "+-------+--------------------+----+-------+--------------------+\n",
      "|Chapter|                Name|Page|Section|        Section_Name|\n",
      "+-------+--------------------+----+-------+--------------------+\n",
      "|      2|Basic Engineering...|  19|    2.1|       Learn To Code|\n",
      "|      2|Basic Engineering...|  19|    2.2|Get Familiar With...|\n",
      "|      2|Basic Engineering...|  19|    2.3|   Agile Development|\n",
      "|      2|Basic Engineering...|  19|    2.4|Software Engineer...|\n",
      "|      2|Basic Engineering...|  19|    2.5|Learn how a Compu...|\n",
      "|      2|Basic Engineering...|  19|    2.6|Data Network Tran...|\n",
      "|      2|Basic Engineering...|  19|    2.7|Security and Privacy|\n",
      "|      2|Basic Engineering...|  19|    2.8|               Linux|\n",
      "|      2|Basic Engineering...|  19|    2.9|              Docker|\n",
      "|      2|Basic Engineering...|  19|    2.1|           The Cloud|\n",
      "|      2|Basic Engineering...|  19|   2.11|Security Zone Design|\n",
      "|      5|        Case Studies|  62|    5.1| Data Science Airbnb|\n",
      "|      5|        Case Studies|  62|    5.2| Data Science Amazon|\n",
      "|      5|        Case Studies|  62|    5.3|  Data Science Baidu|\n",
      "|      5|        Case Studies|  62|    5.4|Data Science Blac...|\n",
      "|      5|        Case Studies|  62|    5.5|    Data Science BMW|\n",
      "|      5|        Case Studies|  62|    5.6|Data Science Book...|\n",
      "|      5|        Case Studies|  62|    5.7|   Data Science CERN|\n",
      "|      5|        Case Studies|  62|    5.8| Data Science Disney|\n",
      "|      5|        Case Studies|  62|    5.9|    Data Science DLR|\n",
      "+-------+--------------------+----+-------+--------------------+\n",
      "only showing top 20 rows\n",
      "\n"
     ]
    }
   ],
   "source": [
    "chaptersDf.join(sectionsDf,'Chapter').where('Chapter == 2 or Chapter == 5').show()"
   ]
  },
  {
   "cell_type": "markdown",
   "id": "2fb12e7a",
   "metadata": {},
   "source": [
    "## Access Columns"
   ]
  },
  {
   "cell_type": "code",
   "execution_count": 28,
   "id": "986952a0",
   "metadata": {},
   "outputs": [],
   "source": [
    "contentDf = chaptersDf.join(sectionsDf, 'Chapter')"
   ]
  },
  {
   "cell_type": "code",
   "execution_count": 32,
   "id": "acf50e65",
   "metadata": {},
   "outputs": [
    {
     "ename": "TypeError",
     "evalue": "'Column' object is not callable",
     "output_type": "error",
     "traceback": [
      "\u001b[0;31m---------------------------------------------------------------------------\u001b[0m",
      "\u001b[0;31mTypeError\u001b[0m                                 Traceback (most recent call last)",
      "\u001b[0;32m/tmp/ipykernel_1550/2942059007.py\u001b[0m in \u001b[0;36m<module>\u001b[0;34m\u001b[0m\n\u001b[0;32m----> 1\u001b[0;31m \u001b[0mcontentDf\u001b[0m\u001b[0;34m.\u001b[0m\u001b[0mChapter\u001b[0m\u001b[0;34m(\u001b[0m\u001b[0;34m)\u001b[0m\u001b[0;34m\u001b[0m\u001b[0;34m\u001b[0m\u001b[0m\n\u001b[0m",
      "\u001b[0;31mTypeError\u001b[0m: 'Column' object is not callable"
     ]
    }
   ],
   "source": [
    "contentDf.Chapter()"
   ]
  },
  {
   "cell_type": "code",
   "execution_count": 30,
   "id": "29ae1f1d",
   "metadata": {},
   "outputs": [
    {
     "name": "stdout",
     "output_type": "stream",
     "text": [
      "+--------------------+--------------------+\n",
      "|        Section_Name|                Name|\n",
      "+--------------------+--------------------+\n",
      "|What is this Cook...|        Introduction|\n",
      "|Data Engineer vs ...|        Introduction|\n",
      "|My Data Science P...|        Introduction|\n",
      "|  Who Companies Need|        Introduction|\n",
      "|       Learn To Code|Basic Engineering...|\n",
      "|Get Familiar With...|Basic Engineering...|\n",
      "|   Agile Development|Basic Engineering...|\n",
      "|Software Engineer...|Basic Engineering...|\n",
      "|Learn how a Compu...|Basic Engineering...|\n",
      "|Data Network Tran...|Basic Engineering...|\n",
      "|Security and Privacy|Basic Engineering...|\n",
      "|               Linux|Basic Engineering...|\n",
      "|              Docker|Basic Engineering...|\n",
      "|           The Cloud|Basic Engineering...|\n",
      "|Security Zone Design|Basic Engineering...|\n",
      "|Data Science Plat...|Advanced Engineer...|\n",
      "|    Hadoop Platforms|Advanced Engineer...|\n",
      "|             Connect|Advanced Engineer...|\n",
      "|              Buffer|Advanced Engineer...|\n",
      "|Processing Framew...|Advanced Engineer...|\n",
      "+--------------------+--------------------+\n",
      "only showing top 20 rows\n",
      "\n"
     ]
    }
   ],
   "source": [
    "contentDf.select('Section_Name', 'Name').show()\n",
    "# OR  \n",
    "# contentDf.select(contentDf.Section_Name, contentDf.Name).show()"
   ]
  },
  {
   "cell_type": "markdown",
   "id": "26a45d42",
   "metadata": {},
   "source": [
    "## Mathematical Operations with Column Expressions"
   ]
  },
  {
   "cell_type": "code",
   "execution_count": 37,
   "id": "9eeb1843",
   "metadata": {},
   "outputs": [
    {
     "name": "stdout",
     "output_type": "stream",
     "text": [
      "+--------------------+--------------+\n",
      "|        Section_Name|(Chapter * 10)|\n",
      "+--------------------+--------------+\n",
      "|What is this Cook...|            10|\n",
      "|Data Engineer vs ...|            10|\n",
      "|My Data Science P...|            10|\n",
      "|  Who Companies Need|            10|\n",
      "|       Learn To Code|            20|\n",
      "|Get Familiar With...|            20|\n",
      "|   Agile Development|            20|\n",
      "|Software Engineer...|            20|\n",
      "|Learn how a Compu...|            20|\n",
      "|Data Network Tran...|            20|\n",
      "|Security and Privacy|            20|\n",
      "|               Linux|            20|\n",
      "|              Docker|            20|\n",
      "|           The Cloud|            20|\n",
      "|Security Zone Design|            20|\n",
      "|Data Science Plat...|            30|\n",
      "|    Hadoop Platforms|            30|\n",
      "|             Connect|            30|\n",
      "|              Buffer|            30|\n",
      "|Processing Framew...|            30|\n",
      "+--------------------+--------------+\n",
      "only showing top 20 rows\n",
      "\n"
     ]
    }
   ],
   "source": [
    "# Multiply / Division values\n",
    "contentDf.select('Section_Name', contentDf.Chapter * 10).show()"
   ]
  },
  {
   "cell_type": "markdown",
   "id": "6fdbf463",
   "metadata": {},
   "source": [
    "## Update Column Name"
   ]
  },
  {
   "cell_type": "code",
   "execution_count": 40,
   "id": "d6c432dd",
   "metadata": {},
   "outputs": [
    {
     "name": "stdout",
     "output_type": "stream",
     "text": [
      "+--------------------+-----------+\n",
      "|        Section_Name|New Chapter|\n",
      "+--------------------+-----------+\n",
      "|What is this Cook...|         10|\n",
      "|Data Engineer vs ...|         10|\n",
      "|My Data Science P...|         10|\n",
      "|  Who Companies Need|         10|\n",
      "|       Learn To Code|         20|\n",
      "|Get Familiar With...|         20|\n",
      "|   Agile Development|         20|\n",
      "|Software Engineer...|         20|\n",
      "|Learn how a Compu...|         20|\n",
      "|Data Network Tran...|         20|\n",
      "|Security and Privacy|         20|\n",
      "|               Linux|         20|\n",
      "|              Docker|         20|\n",
      "|           The Cloud|         20|\n",
      "|Security Zone Design|         20|\n",
      "|Data Science Plat...|         30|\n",
      "|    Hadoop Platforms|         30|\n",
      "|             Connect|         30|\n",
      "|              Buffer|         30|\n",
      "|Processing Framew...|         30|\n",
      "+--------------------+-----------+\n",
      "only showing top 20 rows\n",
      "\n"
     ]
    }
   ],
   "source": [
    "# USe '.alias('new_column_name')'\n",
    "\n",
    "contentDf.select('Section_Name', (contentDf.Chapter * 10).alias('New Chapter')).show()"
   ]
  },
  {
   "cell_type": "markdown",
   "id": "af759a57",
   "metadata": {},
   "source": [
    "## Looking for a specific value / string"
   ]
  },
  {
   "cell_type": "code",
   "execution_count": 41,
   "id": "e8182fd7",
   "metadata": {},
   "outputs": [
    {
     "name": "stdout",
     "output_type": "stream",
     "text": [
      "+-------+--------------------+----+-------+--------------------+\n",
      "|Chapter|                Name|Page|Section|        Section_Name|\n",
      "+-------+--------------------+----+-------+--------------------+\n",
      "|      1|        Introduction|  11|    1.2|Data Engineer vs ...|\n",
      "|      2|Basic Engineering...|  19|    2.4|Software Engineer...|\n",
      "+-------+--------------------+----+-------+--------------------+\n",
      "\n"
     ]
    }
   ],
   "source": [
    "contentDf.where(contentDf.Section_Name.contains('Engineer')).show()"
   ]
  },
  {
   "cell_type": "markdown",
   "id": "08632d74",
   "metadata": {},
   "source": [
    "## Group By + Aggregation Function + Sort Values"
   ]
  },
  {
   "cell_type": "code",
   "execution_count": 49,
   "id": "5467a658",
   "metadata": {},
   "outputs": [
    {
     "name": "stdout",
     "output_type": "stream",
     "text": [
      "+-------+-----+\n",
      "|Chapter|count|\n",
      "+-------+-----+\n",
      "|      8|    1|\n",
      "|      9|    3|\n",
      "|      6|    3|\n",
      "|      1|    4|\n",
      "|      4|    7|\n",
      "|      3|    8|\n",
      "|      2|   11|\n",
      "|      7|   19|\n",
      "|      5|   37|\n",
      "+-------+-----+\n",
      "\n"
     ]
    }
   ],
   "source": [
    "# Group by aggregation options:\n",
    "# agg(additional functions), count, mean, max or min, pivot, sum\n",
    "\n",
    "from pyspark.sql.functions import asc\n",
    "contentDf.groupby('Chapter').count().sort(asc('count')).show()"
   ]
  },
  {
   "cell_type": "code",
   "execution_count": null,
   "id": "b676bf6a",
   "metadata": {},
   "outputs": [],
   "source": []
  }
 ],
 "metadata": {
  "kernelspec": {
   "display_name": "Python 3 (ipykernel)",
   "language": "python",
   "name": "python3"
  },
  "language_info": {
   "codemirror_mode": {
    "name": "ipython",
    "version": 3
   },
   "file_extension": ".py",
   "mimetype": "text/x-python",
   "name": "python",
   "nbconvert_exporter": "python",
   "pygments_lexer": "ipython3",
   "version": "3.9.6"
  }
 },
 "nbformat": 4,
 "nbformat_minor": 5
}
