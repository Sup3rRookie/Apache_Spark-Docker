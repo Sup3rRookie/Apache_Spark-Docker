{
 "cells": [
  {
   "cell_type": "markdown",
   "id": "5054b2aa",
   "metadata": {},
   "source": [
    "## Import libraries"
   ]
  },
  {
   "cell_type": "code",
   "execution_count": 2,
   "id": "49138d2b",
   "metadata": {},
   "outputs": [],
   "source": [
    "import pyspark\n",
    "from pyspark import SparkContext\n",
    "sc = SparkContext.getOrCreate()\n",
    "spark = pyspark.sql.SparkSession(sc, jsparkSession = None)"
   ]
  },
  {
   "cell_type": "markdown",
   "id": "b1a7e6a6",
   "metadata": {},
   "source": [
    "## Data Preparation"
   ]
  },
  {
   "cell_type": "code",
   "execution_count": 5,
   "id": "5f3e75d7",
   "metadata": {},
   "outputs": [],
   "source": [
    "# Load Chapters\n",
    "chaptersDf = spark.read.option(\"inferSchema\",\"true\").option(\"header\",\"true\").csv(\"file:/home/jovyan/work/learning-apache-spark-main/data/bookcontents.csv\")\n",
    "\n",
    "# Load Sections\n",
    "sectionsDf = spark.read.option(\"inferSchema\",\"true\").option(\"header\",\"true\").csv(\"file:/home/jovyan/work/learning-apache-spark-main/data/sections.csv\")\n",
    "\n",
    "# Join the DataFrames\n",
    "contentDf = chaptersDF.join(sectionsDF,\"Chapter\")"
   ]
  },
  {
   "cell_type": "markdown",
   "id": "ebbe5d0d",
   "metadata": {},
   "source": [
    "## Create temp view of the DataFrame"
   ]
  },
  {
   "cell_type": "code",
   "execution_count": 6,
   "id": "6819bd57",
   "metadata": {},
   "outputs": [],
   "source": [
    "# We can create and replace a view if it has already been created\n",
    "# createTempView, createOrReplaceTempView,createGlobalTempView\n",
    "contentDf.createOrReplaceTempView('contentView')"
   ]
  },
  {
   "cell_type": "code",
   "execution_count": 9,
   "id": "a14c875e",
   "metadata": {},
   "outputs": [
    {
     "name": "stdout",
     "output_type": "stream",
     "text": [
      "+-------+------------+----+-------+--------------------+\n",
      "|Chapter|        Name|Page|Section|        Section_Name|\n",
      "+-------+------------+----+-------+--------------------+\n",
      "|      1|Introduction|  11|    1.1|What is this Cook...|\n",
      "|      1|Introduction|  11|    1.2|Data Engineer vs ...|\n",
      "|      1|Introduction|  11|    1.3|My Data Science P...|\n",
      "|      1|Introduction|  11|    1.4|  Who Companies Need|\n",
      "+-------+------------+----+-------+--------------------+\n",
      "\n"
     ]
    }
   ],
   "source": [
    "spark.sql('SELECT * from contentView WHERE Name == \"Introduction\"').show()"
   ]
  },
  {
   "cell_type": "markdown",
   "id": "b6b288f7",
   "metadata": {},
   "source": [
    "## Create DataFrame from SparkSQL"
   ]
  },
  {
   "cell_type": "code",
   "execution_count": 10,
   "id": "4864df01",
   "metadata": {},
   "outputs": [
    {
     "data": {
      "text/plain": [
       "[Table(name='contentview', database=None, description=None, tableType='TEMPORARY', isTemporary=True)]"
      ]
     },
     "execution_count": 10,
     "metadata": {},
     "output_type": "execute_result"
    }
   ],
   "source": [
    "spark.catalog.listTables()"
   ]
  },
  {
   "cell_type": "code",
   "execution_count": 11,
   "id": "84ea49bc",
   "metadata": {},
   "outputs": [],
   "source": [
    "viewDf = spark.sql('SELECT * from contentView')"
   ]
  },
  {
   "cell_type": "code",
   "execution_count": 12,
   "id": "2c98558b",
   "metadata": {},
   "outputs": [
    {
     "name": "stdout",
     "output_type": "stream",
     "text": [
      "+-------+--------------------+----+-------+--------------------+\n",
      "|Chapter|                Name|Page|Section|        Section_Name|\n",
      "+-------+--------------------+----+-------+--------------------+\n",
      "|      1|        Introduction|  11|    1.1|What is this Cook...|\n",
      "|      1|        Introduction|  11|    1.2|Data Engineer vs ...|\n",
      "|      1|        Introduction|  11|    1.3|My Data Science P...|\n",
      "|      1|        Introduction|  11|    1.4|  Who Companies Need|\n",
      "|      2|Basic Engineering...|  19|    2.1|       Learn To Code|\n",
      "|      2|Basic Engineering...|  19|    2.2|Get Familiar With...|\n",
      "|      2|Basic Engineering...|  19|    2.3|   Agile Development|\n",
      "|      2|Basic Engineering...|  19|    2.4|Software Engineer...|\n",
      "|      2|Basic Engineering...|  19|    2.5|Learn how a Compu...|\n",
      "|      2|Basic Engineering...|  19|    2.6|Data Network Tran...|\n",
      "|      2|Basic Engineering...|  19|    2.7|Security and Privacy|\n",
      "|      2|Basic Engineering...|  19|    2.8|               Linux|\n",
      "|      2|Basic Engineering...|  19|    2.9|              Docker|\n",
      "|      2|Basic Engineering...|  19|    2.1|           The Cloud|\n",
      "|      2|Basic Engineering...|  19|   2.11|Security Zone Design|\n",
      "|      3|Advanced Engineer...|  28|    3.1|Data Science Plat...|\n",
      "|      3|Advanced Engineer...|  28|    3.2|    Hadoop Platforms|\n",
      "|      3|Advanced Engineer...|  28|    3.3|             Connect|\n",
      "|      3|Advanced Engineer...|  28|    3.4|              Buffer|\n",
      "|      3|Advanced Engineer...|  28|    3.5|Processing Framew...|\n",
      "+-------+--------------------+----+-------+--------------------+\n",
      "only showing top 20 rows\n",
      "\n"
     ]
    }
   ],
   "source": [
    "viewDf.show()"
   ]
  },
  {
   "cell_type": "code",
   "execution_count": null,
   "id": "58fda932",
   "metadata": {},
   "outputs": [],
   "source": []
  }
 ],
 "metadata": {
  "kernelspec": {
   "display_name": "Python 3 (ipykernel)",
   "language": "python",
   "name": "python3"
  },
  "language_info": {
   "codemirror_mode": {
    "name": "ipython",
    "version": 3
   },
   "file_extension": ".py",
   "mimetype": "text/x-python",
   "name": "python",
   "nbconvert_exporter": "python",
   "pygments_lexer": "ipython3",
   "version": "3.9.6"
  }
 },
 "nbformat": 4,
 "nbformat_minor": 5
}
