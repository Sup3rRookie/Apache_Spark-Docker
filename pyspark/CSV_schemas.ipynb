{
 "cells": [
  {
   "cell_type": "markdown",
   "id": "0d5d0299",
   "metadata": {},
   "source": [
    "## Import Libraries"
   ]
  },
  {
   "cell_type": "code",
   "execution_count": 11,
   "id": "13b9dfda",
   "metadata": {},
   "outputs": [],
   "source": [
    "import pyspark\n",
    "from pyspark import SparkContext\n",
    "sc = SparkContext.getOrCreate()\n",
    "spark = pyspark.sql.SparkSession(sc, jsparkSession=None)"
   ]
  },
  {
   "cell_type": "markdown",
   "id": "101657ab",
   "metadata": {},
   "source": [
    "## Raw Read without Schema"
   ]
  },
  {
   "cell_type": "code",
   "execution_count": 3,
   "id": "ead0f91b",
   "metadata": {},
   "outputs": [],
   "source": [
    "df = spark.read.csv('file:/home/jovyan/work/learning-apache-spark-main/data/bookcontents.csv')"
   ]
  },
  {
   "cell_type": "code",
   "execution_count": 4,
   "id": "dccf3c39",
   "metadata": {},
   "outputs": [
    {
     "name": "stdout",
     "output_type": "stream",
     "text": [
      "root\n",
      " |-- _c0: string (nullable = true)\n",
      " |-- _c1: string (nullable = true)\n",
      " |-- _c2: string (nullable = true)\n",
      "\n"
     ]
    }
   ],
   "source": [
    "df.printSchema()"
   ]
  },
  {
   "cell_type": "code",
   "execution_count": 5,
   "id": "983e83cf",
   "metadata": {},
   "outputs": [
    {
     "name": "stdout",
     "output_type": "stream",
     "text": [
      "+-------+--------------------+----+\n",
      "|    _c0|                 _c1| _c2|\n",
      "+-------+--------------------+----+\n",
      "|Chapter|                Name|Page|\n",
      "|      1|        Introduction|  11|\n",
      "|      2|Basic Engineering...|  19|\n",
      "|      3|Advanced Engineer...|  28|\n",
      "|      4|     Hands On Course|  60|\n",
      "|      5|        Case Studies|  62|\n",
      "|      6|Best Practices Cl...|  73|\n",
      "|      7|130+ Data Sources...|  77|\n",
      "|      8|1001 Interview Qu...|  82|\n",
      "|      9|Recommended Books...|  87|\n",
      "+-------+--------------------+----+\n",
      "\n"
     ]
    }
   ],
   "source": [
    "df.show()"
   ]
  },
  {
   "cell_type": "markdown",
   "id": "70cf47c0",
   "metadata": {},
   "source": [
    "## Infer a schema without no header"
   ]
  },
  {
   "cell_type": "code",
   "execution_count": 8,
   "id": "a5d022d1",
   "metadata": {},
   "outputs": [],
   "source": [
    "headerDf = spark.read.option('inferSchema','true').option('header','true').csv('file:/home/jovyan/work/learning-apache-spark-main/data/bookcontents.csv')"
   ]
  },
  {
   "cell_type": "code",
   "execution_count": 9,
   "id": "9f853ef5",
   "metadata": {},
   "outputs": [
    {
     "name": "stdout",
     "output_type": "stream",
     "text": [
      "root\n",
      " |-- Chapter: integer (nullable = true)\n",
      " |-- Name: string (nullable = true)\n",
      " |-- Page: integer (nullable = true)\n",
      "\n"
     ]
    }
   ],
   "source": [
    "headerDf.printSchema()"
   ]
  },
  {
   "cell_type": "code",
   "execution_count": 10,
   "id": "19545926",
   "metadata": {},
   "outputs": [
    {
     "name": "stdout",
     "output_type": "stream",
     "text": [
      "+-------+--------------------+----+\n",
      "|Chapter|                Name|Page|\n",
      "+-------+--------------------+----+\n",
      "|      1|        Introduction|  11|\n",
      "|      2|Basic Engineering...|  19|\n",
      "|      3|Advanced Engineer...|  28|\n",
      "|      4|     Hands On Course|  60|\n",
      "|      5|        Case Studies|  62|\n",
      "|      6|Best Practices Cl...|  73|\n",
      "|      7|130+ Data Sources...|  77|\n",
      "|      8|1001 Interview Qu...|  82|\n",
      "|      9|Recommended Books...|  87|\n",
      "+-------+--------------------+----+\n",
      "\n"
     ]
    }
   ],
   "source": [
    "headerDf.show()"
   ]
  },
  {
   "cell_type": "markdown",
   "id": "06422ea6",
   "metadata": {},
   "source": [
    "## Create a Manual Schema "
   ]
  },
  {
   "cell_type": "code",
   "execution_count": 12,
   "id": "b96c2775",
   "metadata": {},
   "outputs": [],
   "source": [
    "from pyspark.sql.types import *"
   ]
  },
  {
   "cell_type": "code",
   "execution_count": 14,
   "id": "9345b6b1",
   "metadata": {},
   "outputs": [
    {
     "name": "stdout",
     "output_type": "stream",
     "text": [
      "root\n",
      " |-- _c0: integer (nullable = true)\n",
      " |-- _c1: string (nullable = true)\n",
      " |-- _c2: integer (nullable = true)\n",
      "\n"
     ]
    }
   ],
   "source": [
    "# Test the schema\n",
    "\n",
    "spark.read.option('inferSchema','true').csv('file:/home/jovyan/work/learning-apache-spark-main/data/bookcontentsNoHeader.csv').printSchema()"
   ]
  },
  {
   "cell_type": "code",
   "execution_count": 15,
   "id": "63156bf0",
   "metadata": {},
   "outputs": [],
   "source": [
    "columns = [\n",
    "StructField(\"Chapter\", IntegerType()),\n",
    "StructField(\"Name\", StringType()),\n",
    "StructField(\"Page\", IntegerType())]\n",
    "csvschema = StructType(columns)"
   ]
  },
  {
   "cell_type": "code",
   "execution_count": null,
   "id": "589aca06",
   "metadata": {},
   "outputs": [],
   "source": [
    "manual_schema_df = spark.read.schema(csvschema).csv('file:/home/jovyan/work/learning-apache-spark-main/data/bookcontentsNoHeader.csv')"
   ]
  }
 ],
 "metadata": {
  "kernelspec": {
   "display_name": "Python 3 (ipykernel)",
   "language": "python",
   "name": "python3"
  },
  "language_info": {
   "codemirror_mode": {
    "name": "ipython",
    "version": 3
   },
   "file_extension": ".py",
   "mimetype": "text/x-python",
   "name": "python",
   "nbconvert_exporter": "python",
   "pygments_lexer": "ipython3",
   "version": "3.9.6"
  }
 },
 "nbformat": 4,
 "nbformat_minor": 5
}
